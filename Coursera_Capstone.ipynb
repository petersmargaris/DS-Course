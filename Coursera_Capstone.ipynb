{
 "cells": [
  {
   "cell_type": "markdown",
   "metadata": {},
   "source": [
    "# Introduction"
   ]
  },
  {
   "cell_type": "markdown",
   "metadata": {},
   "source": [
    "Suppose you are lookng to oen a restaurant somewhere in San fransisco. Being one of the most expensive cities in the world, each neighborhood has it's own micro economic climate, which can significantly affect restaurant pricing. A potential restaurant owner may be interested in which neighborhoods are better suited for business needs. Hence, The target audience in this case would be people looking to open a restaurant or looking to expand their restaurant business.\n",
    "\n",
    "We will explore restaurant pricing data that can potentially serve a future owner on where he or she may want to open. If an owner is looking to open a nice, elegant restaurant, then perheps he or she would look toward the more expensive areas of town in terms of restaurant pricing. This would allow an owner to maximize their profits and run a successfull business. We will assist with this decision by clustering neighborhoods in San Fransisco based on pricing."
   ]
  },
  {
   "cell_type": "markdown",
   "metadata": {},
   "source": [
    "# Data "
   ]
  },
  {
   "cell_type": "markdown",
   "metadata": {},
   "source": [
    "We will begin the data collection process by obtaining a list of all the SF neighborhoods as well as their geographical location. We will then apply Foursquare API, specifically the venue group and explore endpoint, to find all nearby restaurants to each neighborhood point considereing their price rating: from $ to $$$$ according to Forsquare's pricing bucket.\n",
    "After processing and analyzing the data we will provide a K-means clustering to cluster the neighborhoods based on pricing. This will provide for a visualization in whcih a future owner will be able to identify similarities indifferent areas of town and allow he or she to pinpoint locations in which a specific restaurant would be more successful."
   ]
  },
  {
   "cell_type": "code",
   "execution_count": null,
   "metadata": {},
   "outputs": [],
   "source": []
  }
 ],
 "metadata": {
  "kernelspec": {
   "display_name": "Python 3",
   "language": "python",
   "name": "python3"
  },
  "language_info": {
   "codemirror_mode": {
    "name": "ipython",
    "version": 3
   },
   "file_extension": ".py",
   "mimetype": "text/x-python",
   "name": "python",
   "nbconvert_exporter": "python",
   "pygments_lexer": "ipython3",
   "version": "3.7.6"
  }
 },
 "nbformat": 4,
 "nbformat_minor": 4
}
