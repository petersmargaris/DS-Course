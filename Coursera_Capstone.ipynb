{
 "cells": [
  {
   "cell_type": "markdown",
   "metadata": {},
   "source": [
    "# Introduction"
   ]
  },
  {
   "cell_type": "markdown",
   "metadata": {},
   "source": [
    "Suppose you are lookng to oen a restaurant somehwere in San fransisco. Being one of the most expensive cities in the world, each neighborhood has it's own micro economic climate, which can significantly affect restaurant pricing. A potential restaurant owner may be interested in which neighborhoods are better suited for business needs.\n",
    "\n",
    "We will explore restaurant pricing data that can potentially serve a future owner ion where he or she may want to open. It could range from an expensive, sit down, elegant restaurant to a cheaper, quick, take-out restaurant. We will assist with this decision by clustering neighborhoods in San Fransisco based on pricing."
   ]
  },
  {
   "cell_type": "markdown",
   "metadata": {},
   "source": [
    "# Data "
   ]
  },
  {
   "cell_type": "markdown",
   "metadata": {},
   "source": [
    "We will begin the data collection process by obtaining a list of all the SF neighborhoods as well as their geographical location. We will then apply Foursquare API, specifically the venue group and explore endpoint, to find all nearby restaurants to each neighborhood point considereing their price rating: from $ to $$$$ according to Forsquare's pricing bucket.\n",
    "After processing and analyzing the data we will provide a K-means clustering to cluster the neighborhoods based on pricing."
   ]
  },
  {
   "cell_type": "code",
   "execution_count": null,
   "metadata": {},
   "outputs": [],
   "source": []
  }
 ],
 "metadata": {
  "kernelspec": {
   "display_name": "Python 3",
   "language": "python",
   "name": "python3"
  },
  "language_info": {
   "codemirror_mode": {
    "name": "ipython",
    "version": 3
   },
   "file_extension": ".py",
   "mimetype": "text/x-python",
   "name": "python",
   "nbconvert_exporter": "python",
   "pygments_lexer": "ipython3",
   "version": "3.7.6"
  }
 },
 "nbformat": 4,
 "nbformat_minor": 4
}
